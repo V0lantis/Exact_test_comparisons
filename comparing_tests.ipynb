{
 "cells": [
  {
   "cell_type": "markdown",
   "id": "ffa9f49b-d887-448d-b7a8-a5f37559b8cc",
   "metadata": {},
   "source": [
    "# Comparison of Boschloo, Barnard and fisher exact test\n",
    "\n",
    "In statistics, There are three main tests used in the analysis of 2×2 contingency tables with one margin fixed. They are named after the one who discovered it: R. D. Boschloo, [Barnard](https://en.wikipedia.org/wiki/George_Alfred_Barnard), and the very well known [Ronald Fisher](https://en.wikipedia.org/wiki/Ronald_Fisher)\n",
    "\n",
    "The first one in historical timeline is Fisher exact test. \n",
    "\n",
    "The purpose of this Notebook is to discover which one is the most powerful and which condition we should use one over another."
   ]
  },
  {
   "cell_type": "code",
   "execution_count": null,
   "id": "92c0cdde-57d2-4700-85b8-ea33abc8a747",
   "metadata": {},
   "outputs": [],
   "source": [
    "from dataclasses import make_dataclass, field\n",
    "from functools import partial, reduce\n",
    "\n",
    "import scipy.stats as stats\n",
    "import numpy as np\n",
    "import matplotlib.pyplot as plt\n",
    "from scipy.stats import boschloo_exact, fisher_exact, barnard_exact"
   ]
  },
  {
   "cell_type": "code",
   "execution_count": null,
   "id": "9aa14336-33b3-415d-adea-edbde767cb10",
   "metadata": {},
   "outputs": [],
   "source": [
    "FUNCTIONS = [boschloo_exact, fisher_exact, barnard_exact]"
   ]
  },
  {
   "cell_type": "code",
   "execution_count": null,
   "id": "9da67ff0-a11c-4621-8ae8-08df8133db5e",
   "metadata": {},
   "outputs": [],
   "source": [
    "def get_binom_samples(n, p, size=1000):\n",
    "    tables = stats.binom.rvs(n, p, size=size)\n",
    "    return tables\n",
    "\n",
    "ResPvalues = make_dataclass('ResPvalues',\n",
    "                   [('boschloo_exact', float, field(default=0)),\n",
    "                    ('barnard_exact', float, field(default=0)),\n",
    "                    ('fisher_exact', float, field(default=0)),],)\n",
    "\n",
    "def get_pvalues(table, alt=\"two-sided\"):\n",
    "    res = ResPvalues()\n",
    "    for fn in FUNCTIONS:\n",
    "        if fn.__name__ == \"fisher_exact\":\n",
    "            _, res.fisher_exact = fisher_exact(table, alternative=alt)\n",
    "        \n",
    "        else:\n",
    "            setattr(res, fn.__name__, fn(table, alternative=alt).pvalue)\n",
    "    return res\n",
    "\n",
    "\n",
    "def count_treshold(map_obj, alpha):\n",
    "    def cond(res: ResPvalues):\n",
    "        \"\"\"\n",
    "        Condition if we accept H_0 or not\n",
    "        \"\"\"\n",
    "        boschloo = 1 if res.boschloo_exact > alpha else 0\n",
    "        barnard = 1 if res.barnard_exact > alpha else 0\n",
    "        fisher = 1 if res.fisher_exact > alpha else 0\n",
    "        return np.array([boschloo, barnard, fisher])\n",
    "    \n",
    "    return list(\n",
    "        reduce(lambda x, y: x + y, map(cond, map_obj), np.array([0,0,0]))\n",
    "    )\n",
    "            "
   ]
  },
  {
   "cell_type": "code",
   "execution_count": null,
   "id": "cd23ef75-b0fd-4338-a303-396ab1c3edd1",
   "metadata": {},
   "outputs": [],
   "source": [
    "def count_rejection_hypothesis(alpha=.05, repeat=1):\n",
    "    def mapping_samples(n1, n2, sample_tuple):\n",
    "        a, b = sample_tuple\n",
    "        return get_pvalues([[a, b], [n1 - a, n2 - b]], alt=\"less\")\n",
    "    \n",
    "    for _ in range(repeat):\n",
    "        # p_1 = .2 < p_2 = .3. Therefore, H_0 is false\n",
    "        n1, p1, n2, p2 = 33, .2, 62, .3\n",
    "        size = 10\n",
    "        left_side = get_binom_samples(n1, p1, size)\n",
    "        right_side = get_binom_samples(n2, p2, size)\n",
    "        mapping_fn = partial(mapping_samples, n1, n2)\n",
    "\n",
    "        # Let's compute power = 1 - 𝛽. Since 𝛽 = P(type II error) = P_Ha(Accept H_0)    \n",
    "        map_obj = list(map(mapping_fn, zip(left_side, right_side)))\n",
    "        print(count_treshold(map_obj, alpha=alpha))\n",
    "        return \n",
    "\n",
    "   \n",
    "%time count_rejection_hypothesis()"
   ]
  },
  {
   "cell_type": "markdown",
   "id": "c6410d91-aeb1-43db-a4b0-d7f48b492822",
   "metadata": {},
   "source": [
    "Let's do this in parallele now"
   ]
  },
  {
   "cell_type": "code",
   "execution_count": null,
   "id": "f5e94331-7992-409c-975a-71a4c2586cff",
   "metadata": {},
   "outputs": [],
   "source": [
    "from power_comparison_with_processus import count_rejection_hypothesis_with_workers\n",
    "res = count_rejection_hypothesis_with_workers(repeat=6)"
   ]
  },
  {
   "cell_type": "code",
   "execution_count": null,
   "id": "506b8520-1436-42b0-afc7-60c2d434cb50",
   "metadata": {},
   "outputs": [],
   "source": []
  }
 ],
 "metadata": {
  "kernelspec": {
   "display_name": "Python 3 (ipykernel)",
   "language": "python",
   "name": "python3"
  },
  "language_info": {
   "codemirror_mode": {
    "name": "ipython",
    "version": 3
   },
   "file_extension": ".py",
   "mimetype": "text/x-python",
   "name": "python",
   "nbconvert_exporter": "python",
   "pygments_lexer": "ipython3",
   "version": "3.9.6"
  }
 },
 "nbformat": 4,
 "nbformat_minor": 5
}
